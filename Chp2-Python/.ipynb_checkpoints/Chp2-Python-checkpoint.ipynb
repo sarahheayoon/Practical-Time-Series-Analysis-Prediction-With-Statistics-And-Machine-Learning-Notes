{
 "cells": [
  {
   "cell_type": "code",
   "execution_count": 4,
   "id": "f3d641b7",
   "metadata": {},
   "outputs": [],
   "source": [
    "import pandas as pd\n",
    "import io\n",
    "import requests"
   ]
  },
  {
   "cell_type": "code",
   "execution_count": 5,
   "id": "5dc20445",
   "metadata": {},
   "outputs": [
    {
     "data": {
      "text/html": [
       "<div>\n",
       "<style scoped>\n",
       "    .dataframe tbody tr th:only-of-type {\n",
       "        vertical-align: middle;\n",
       "    }\n",
       "\n",
       "    .dataframe tbody tr th {\n",
       "        vertical-align: top;\n",
       "    }\n",
       "\n",
       "    .dataframe thead th {\n",
       "        text-align: right;\n",
       "    }\n",
       "</style>\n",
       "<table border=\"1\" class=\"dataframe\">\n",
       "  <thead>\n",
       "    <tr style=\"text-align: right;\">\n",
       "      <th></th>\n",
       "      <th>user</th>\n",
       "      <th>userStats</th>\n",
       "      <th>yearJoined</th>\n",
       "    </tr>\n",
       "  </thead>\n",
       "  <tbody>\n",
       "    <tr>\n",
       "      <th>0</th>\n",
       "      <td>0</td>\n",
       "      <td>silver</td>\n",
       "      <td>2014</td>\n",
       "    </tr>\n",
       "    <tr>\n",
       "      <th>1</th>\n",
       "      <td>1</td>\n",
       "      <td>silver</td>\n",
       "      <td>2015</td>\n",
       "    </tr>\n",
       "    <tr>\n",
       "      <th>2</th>\n",
       "      <td>2</td>\n",
       "      <td>silver</td>\n",
       "      <td>2016</td>\n",
       "    </tr>\n",
       "    <tr>\n",
       "      <th>3</th>\n",
       "      <td>3</td>\n",
       "      <td>bronze</td>\n",
       "      <td>2018</td>\n",
       "    </tr>\n",
       "    <tr>\n",
       "      <th>4</th>\n",
       "      <td>4</td>\n",
       "      <td>silver</td>\n",
       "      <td>2018</td>\n",
       "    </tr>\n",
       "  </tbody>\n",
       "</table>\n",
       "</div>"
      ],
      "text/plain": [
       "   user userStats  yearJoined\n",
       "0     0    silver        2014\n",
       "1     1    silver        2015\n",
       "2     2    silver        2016\n",
       "3     3    bronze        2018\n",
       "4     4    silver        2018"
      ]
     },
     "execution_count": 5,
     "metadata": {},
     "output_type": "execute_result"
    }
   ],
   "source": [
    "# The year each user joined and current status of membership\n",
    "YearJoined = pd.read_csv(\"year_joined.csv\") \n",
    "YearJoined.head()"
   ]
  },
  {
   "cell_type": "code",
   "execution_count": 8,
   "id": "8e601a35",
   "metadata": {},
   "outputs": [
    {
     "data": {
      "text/plain": [
       "1000"
      ]
     },
     "execution_count": 8,
     "metadata": {},
     "output_type": "execute_result"
    }
   ],
   "source": [
    "# Total Number of Users\n",
    "YearJoined.user.count()"
   ]
  },
  {
   "cell_type": "code",
   "execution_count": 10,
   "id": "2f7a3b8f",
   "metadata": {},
   "outputs": [
    {
     "data": {
      "text/plain": [
       "1000"
      ]
     },
     "execution_count": 10,
     "metadata": {},
     "output_type": "execute_result"
    }
   ],
   "source": [
    "# Counting the total number of userStats\n",
    "# YearJoined.userStats.count()\n",
    "# Checking if there are multiple entries for user status for each year\n",
    "YearJoined.groupby('user').count().groupby('userStats').count()"
   ]
  },
  {
   "cell_type": "code",
   "execution_count": 6,
   "id": "db9589a8",
   "metadata": {},
   "outputs": [
    {
     "data": {
      "text/html": [
       "<div>\n",
       "<style scoped>\n",
       "    .dataframe tbody tr th:only-of-type {\n",
       "        vertical-align: middle;\n",
       "    }\n",
       "\n",
       "    .dataframe tbody tr th {\n",
       "        vertical-align: top;\n",
       "    }\n",
       "\n",
       "    .dataframe thead th {\n",
       "        text-align: right;\n",
       "    }\n",
       "</style>\n",
       "<table border=\"1\" class=\"dataframe\">\n",
       "  <thead>\n",
       "    <tr style=\"text-align: right;\">\n",
       "      <th></th>\n",
       "      <th>emailsOpened</th>\n",
       "      <th>user</th>\n",
       "      <th>week</th>\n",
       "    </tr>\n",
       "  </thead>\n",
       "  <tbody>\n",
       "    <tr>\n",
       "      <th>0</th>\n",
       "      <td>3.0</td>\n",
       "      <td>1.0</td>\n",
       "      <td>2015-06-29 00:00:00</td>\n",
       "    </tr>\n",
       "    <tr>\n",
       "      <th>1</th>\n",
       "      <td>2.0</td>\n",
       "      <td>1.0</td>\n",
       "      <td>2015-07-13 00:00:00</td>\n",
       "    </tr>\n",
       "    <tr>\n",
       "      <th>2</th>\n",
       "      <td>2.0</td>\n",
       "      <td>1.0</td>\n",
       "      <td>2015-07-20 00:00:00</td>\n",
       "    </tr>\n",
       "    <tr>\n",
       "      <th>3</th>\n",
       "      <td>3.0</td>\n",
       "      <td>1.0</td>\n",
       "      <td>2015-07-27 00:00:00</td>\n",
       "    </tr>\n",
       "    <tr>\n",
       "      <th>4</th>\n",
       "      <td>1.0</td>\n",
       "      <td>1.0</td>\n",
       "      <td>2015-08-03 00:00:00</td>\n",
       "    </tr>\n",
       "  </tbody>\n",
       "</table>\n",
       "</div>"
      ],
      "text/plain": [
       "   emailsOpened  user                 week\n",
       "0           3.0   1.0  2015-06-29 00:00:00\n",
       "1           2.0   1.0  2015-07-13 00:00:00\n",
       "2           2.0   1.0  2015-07-20 00:00:00\n",
       "3           3.0   1.0  2015-07-27 00:00:00\n",
       "4           1.0   1.0  2015-08-03 00:00:00"
      ]
     },
     "execution_count": 6,
     "metadata": {},
     "output_type": "execute_result"
    }
   ],
   "source": [
    "# Number of emails you sent out in a given week that were opend by the member\n",
    "Emails = pd.read_csv(\"emails.csv\")\n",
    "Emails.head()"
   ]
  },
  {
   "cell_type": "code",
   "execution_count": 21,
   "id": "fd098a8f",
   "metadata": {},
   "outputs": [
    {
     "data": {
      "text/plain": [
       "406.0"
      ]
     },
     "execution_count": 21,
     "metadata": {},
     "output_type": "execute_result"
    }
   ],
   "source": [
    "# Counting # of total emails opened by the user 1\n",
    "user_1_info = Emails[Emails.user == 1]\n",
    "user_1_info.emailsOpened.sum()"
   ]
  },
  {
   "cell_type": "code",
   "execution_count": 17,
   "id": "cf3f3a21",
   "metadata": {},
   "outputs": [
    {
     "data": {
      "text/html": [
       "<div>\n",
       "<style scoped>\n",
       "    .dataframe tbody tr th:only-of-type {\n",
       "        vertical-align: middle;\n",
       "    }\n",
       "\n",
       "    .dataframe tbody tr th {\n",
       "        vertical-align: top;\n",
       "    }\n",
       "\n",
       "    .dataframe thead th {\n",
       "        text-align: right;\n",
       "    }\n",
       "</style>\n",
       "<table border=\"1\" class=\"dataframe\">\n",
       "  <thead>\n",
       "    <tr style=\"text-align: right;\">\n",
       "      <th></th>\n",
       "      <th>emailsOpened</th>\n",
       "    </tr>\n",
       "    <tr>\n",
       "      <th>user</th>\n",
       "      <th></th>\n",
       "    </tr>\n",
       "  </thead>\n",
       "  <tbody>\n",
       "    <tr>\n",
       "      <th>1.0</th>\n",
       "      <td>406.0</td>\n",
       "    </tr>\n",
       "    <tr>\n",
       "      <th>3.0</th>\n",
       "      <td>17.0</td>\n",
       "    </tr>\n",
       "    <tr>\n",
       "      <th>5.0</th>\n",
       "      <td>63.0</td>\n",
       "    </tr>\n",
       "    <tr>\n",
       "      <th>6.0</th>\n",
       "      <td>88.0</td>\n",
       "    </tr>\n",
       "    <tr>\n",
       "      <th>9.0</th>\n",
       "      <td>267.0</td>\n",
       "    </tr>\n",
       "    <tr>\n",
       "      <th>...</th>\n",
       "      <td>...</td>\n",
       "    </tr>\n",
       "    <tr>\n",
       "      <th>991.0</th>\n",
       "      <td>1.0</td>\n",
       "    </tr>\n",
       "    <tr>\n",
       "      <th>992.0</th>\n",
       "      <td>4.0</td>\n",
       "    </tr>\n",
       "    <tr>\n",
       "      <th>993.0</th>\n",
       "      <td>98.0</td>\n",
       "    </tr>\n",
       "    <tr>\n",
       "      <th>995.0</th>\n",
       "      <td>249.0</td>\n",
       "    </tr>\n",
       "    <tr>\n",
       "      <th>998.0</th>\n",
       "      <td>64.0</td>\n",
       "    </tr>\n",
       "  </tbody>\n",
       "</table>\n",
       "<p>539 rows × 1 columns</p>\n",
       "</div>"
      ],
      "text/plain": [
       "       emailsOpened\n",
       "user               \n",
       "1.0           406.0\n",
       "3.0            17.0\n",
       "5.0            63.0\n",
       "6.0            88.0\n",
       "9.0           267.0\n",
       "...             ...\n",
       "991.0           1.0\n",
       "992.0           4.0\n",
       "993.0          98.0\n",
       "995.0         249.0\n",
       "998.0          64.0\n",
       "\n",
       "[539 rows x 1 columns]"
      ]
     },
     "execution_count": 17,
     "metadata": {},
     "output_type": "execute_result"
    }
   ],
   "source": [
    "# Counting total # of emails opened by each user \n",
    "Emails.groupby('user').sum()"
   ]
  },
  {
   "cell_type": "code",
   "execution_count": 12,
   "id": "aa5861a6",
   "metadata": {},
   "outputs": [
    {
     "data": {
      "text/html": [
       "<div>\n",
       "<style scoped>\n",
       "    .dataframe tbody tr th:only-of-type {\n",
       "        vertical-align: middle;\n",
       "    }\n",
       "\n",
       "    .dataframe tbody tr th {\n",
       "        vertical-align: top;\n",
       "    }\n",
       "\n",
       "    .dataframe thead th {\n",
       "        text-align: right;\n",
       "    }\n",
       "</style>\n",
       "<table border=\"1\" class=\"dataframe\">\n",
       "  <thead>\n",
       "    <tr style=\"text-align: right;\">\n",
       "      <th></th>\n",
       "      <th>emailsOpened</th>\n",
       "      <th>user</th>\n",
       "      <th>week</th>\n",
       "    </tr>\n",
       "  </thead>\n",
       "  <tbody>\n",
       "  </tbody>\n",
       "</table>\n",
       "</div>"
      ],
      "text/plain": [
       "Empty DataFrame\n",
       "Columns: [emailsOpened, user, week]\n",
       "Index: []"
      ]
     },
     "execution_count": 12,
     "metadata": {},
     "output_type": "execute_result"
    }
   ],
   "source": [
    "# Are null weeks reported? \n",
    "Emails[Emails.emailsOpened < 1]\n",
    "# It seems like the nulls are not reported or members always have at least one email event\n",
    "# However, is it likely that people always open their emails (at least one email) every week?\n",
    "# We can look at a specitif user"
   ]
  },
  {
   "cell_type": "code",
   "execution_count": 37,
   "id": "bc481505",
   "metadata": {},
   "outputs": [],
   "source": [
    "#Emails[Emails.user == 5] # Opening Email History for User 5"
   ]
  },
  {
   "cell_type": "code",
   "execution_count": 40,
   "id": "846ae8d0",
   "metadata": {},
   "outputs": [
    {
     "data": {
      "text/plain": [
       "datetime.datetime"
      ]
     },
     "execution_count": 40,
     "metadata": {},
     "output_type": "execute_result"
    }
   ],
   "source": [
    "Emails[Emails.user == 5].shape # 46 Number of Entries "
   ]
  },
  {
   "cell_type": "code",
   "execution_count": 28,
   "id": "a8483d49",
   "metadata": {},
   "outputs": [
    {
     "data": {
      "text/plain": [
       "51.0"
      ]
     },
     "execution_count": 28,
     "metadata": {},
     "output_type": "execute_result"
    }
   ],
   "source": [
    "# How many weeks in between the first and the last reported entries = 51 entries = 52 weeks\n",
    "# which means we are missing some weeks of data (6 weeks are missing)\n",
    "import datetime\n",
    "date_time_str_max = max(Emails[Emails.user == 5].week)#most recent week\n",
    "date_time_str_min = min(Emails[Emails.user == 5].week)#oldest week\n",
    "\n",
    "date_time_obj_max = datetime.datetime.strptime(date_time_str_max, '%Y-%m-%d %H:%M:%S')#transforming the vlb to do calculation\n",
    "date_time_obj_min = datetime.datetime.strptime(date_time_str_min, '%Y-%m-%d %H:%M:%S')\n",
    "\n",
    "(date_time_obj_max - date_time_obj_min).days/7"
   ]
  },
  {
   "cell_type": "code",
   "execution_count": 42,
   "id": "b3548d68",
   "metadata": {},
   "outputs": [],
   "source": [
    "# filling in missing data! missing week = 0\n",
    "complete_idx = pd.MultiIndex.from_product((set(Emails.week), set(Emails.user)))"
   ]
  },
  {
   "cell_type": "code",
   "execution_count": 49,
   "id": "472aba31",
   "metadata": {},
   "outputs": [],
   "source": [
    "# first set the index to week and user, then reindex to include all weeks and fill in values for the missing week. reset_inded()\n",
    "all_email = Emails.set_index(['week', 'user']).reindex(complete_idx, fill_value=0).reset_index()\n",
    "all_email.columns = ['week', 'user', 'emailsOpened'] #set column names"
   ]
  },
  {
   "cell_type": "code",
   "execution_count": 48,
   "id": "3fbfdf22",
   "metadata": {},
   "outputs": [
    {
     "data": {
      "text/html": [
       "<div>\n",
       "<style scoped>\n",
       "    .dataframe tbody tr th:only-of-type {\n",
       "        vertical-align: middle;\n",
       "    }\n",
       "\n",
       "    .dataframe tbody tr th {\n",
       "        vertical-align: top;\n",
       "    }\n",
       "\n",
       "    .dataframe thead th {\n",
       "        text-align: right;\n",
       "    }\n",
       "</style>\n",
       "<table border=\"1\" class=\"dataframe\">\n",
       "  <thead>\n",
       "    <tr style=\"text-align: right;\">\n",
       "      <th></th>\n",
       "      <th>week</th>\n",
       "      <th>user</th>\n",
       "      <th>emailsOpened</th>\n",
       "    </tr>\n",
       "  </thead>\n",
       "  <tbody>\n",
       "    <tr>\n",
       "      <th>67916</th>\n",
       "      <td>2015-02-09 00:00:00</td>\n",
       "      <td>5.0</td>\n",
       "      <td>0.0</td>\n",
       "    </tr>\n",
       "    <tr>\n",
       "      <th>15094</th>\n",
       "      <td>2015-02-16 00:00:00</td>\n",
       "      <td>5.0</td>\n",
       "      <td>0.0</td>\n",
       "    </tr>\n",
       "    <tr>\n",
       "      <th>75462</th>\n",
       "      <td>2015-02-23 00:00:00</td>\n",
       "      <td>5.0</td>\n",
       "      <td>0.0</td>\n",
       "    </tr>\n",
       "    <tr>\n",
       "      <th>45817</th>\n",
       "      <td>2015-03-02 00:00:00</td>\n",
       "      <td>5.0</td>\n",
       "      <td>0.0</td>\n",
       "    </tr>\n",
       "    <tr>\n",
       "      <th>85703</th>\n",
       "      <td>2015-03-09 00:00:00</td>\n",
       "      <td>5.0</td>\n",
       "      <td>0.0</td>\n",
       "    </tr>\n",
       "    <tr>\n",
       "      <th>...</th>\n",
       "      <td>...</td>\n",
       "      <td>...</td>\n",
       "      <td>...</td>\n",
       "    </tr>\n",
       "    <tr>\n",
       "      <th>42583</th>\n",
       "      <td>2018-04-30 00:00:00</td>\n",
       "      <td>5.0</td>\n",
       "      <td>2.0</td>\n",
       "    </tr>\n",
       "    <tr>\n",
       "      <th>69533</th>\n",
       "      <td>2018-05-07 00:00:00</td>\n",
       "      <td>5.0</td>\n",
       "      <td>1.0</td>\n",
       "    </tr>\n",
       "    <tr>\n",
       "      <th>68994</th>\n",
       "      <td>2018-05-14 00:00:00</td>\n",
       "      <td>5.0</td>\n",
       "      <td>1.0</td>\n",
       "    </tr>\n",
       "    <tr>\n",
       "      <th>25335</th>\n",
       "      <td>2018-05-21 00:00:00</td>\n",
       "      <td>5.0</td>\n",
       "      <td>2.0</td>\n",
       "    </tr>\n",
       "    <tr>\n",
       "      <th>21023</th>\n",
       "      <td>2018-05-28 00:00:00</td>\n",
       "      <td>5.0</td>\n",
       "      <td>2.0</td>\n",
       "    </tr>\n",
       "  </tbody>\n",
       "</table>\n",
       "<p>173 rows × 3 columns</p>\n",
       "</div>"
      ],
      "text/plain": [
       "                      week  user  emailsOpened\n",
       "67916  2015-02-09 00:00:00   5.0           0.0\n",
       "15094  2015-02-16 00:00:00   5.0           0.0\n",
       "75462  2015-02-23 00:00:00   5.0           0.0\n",
       "45817  2015-03-02 00:00:00   5.0           0.0\n",
       "85703  2015-03-09 00:00:00   5.0           0.0\n",
       "...                    ...   ...           ...\n",
       "42583  2018-04-30 00:00:00   5.0           2.0\n",
       "69533  2018-05-07 00:00:00   5.0           1.0\n",
       "68994  2018-05-14 00:00:00   5.0           1.0\n",
       "25335  2018-05-21 00:00:00   5.0           2.0\n",
       "21023  2018-05-28 00:00:00   5.0           2.0\n",
       "\n",
       "[173 rows x 3 columns]"
      ]
     },
     "execution_count": 48,
     "metadata": {},
     "output_type": "execute_result"
    }
   ],
   "source": [
    "all_email[all_email.user == 5].sort_values('week')#sort by week earliest to most recent"
   ]
  },
  {
   "cell_type": "code",
   "execution_count": 59,
   "id": "bf1c6460",
   "metadata": {},
   "outputs": [
    {
     "data": {
      "text/html": [
       "<div>\n",
       "<style scoped>\n",
       "    .dataframe tbody tr th:only-of-type {\n",
       "        vertical-align: middle;\n",
       "    }\n",
       "\n",
       "    .dataframe tbody tr th {\n",
       "        vertical-align: top;\n",
       "    }\n",
       "\n",
       "    .dataframe thead th {\n",
       "        text-align: right;\n",
       "    }\n",
       "</style>\n",
       "<table border=\"1\" class=\"dataframe\">\n",
       "  <thead>\n",
       "    <tr style=\"text-align: right;\">\n",
       "      <th></th>\n",
       "      <th>user</th>\n",
       "      <th>min</th>\n",
       "      <th>max</th>\n",
       "    </tr>\n",
       "  </thead>\n",
       "  <tbody>\n",
       "    <tr>\n",
       "      <th>0</th>\n",
       "      <td>1.0</td>\n",
       "      <td>2015-06-29 00:00:00</td>\n",
       "      <td>2018-05-28 00:00:00</td>\n",
       "    </tr>\n",
       "    <tr>\n",
       "      <th>1</th>\n",
       "      <td>3.0</td>\n",
       "      <td>2018-03-05 00:00:00</td>\n",
       "      <td>2018-04-23 00:00:00</td>\n",
       "    </tr>\n",
       "    <tr>\n",
       "      <th>2</th>\n",
       "      <td>5.0</td>\n",
       "      <td>2017-06-05 00:00:00</td>\n",
       "      <td>2018-05-28 00:00:00</td>\n",
       "    </tr>\n",
       "    <tr>\n",
       "      <th>3</th>\n",
       "      <td>6.0</td>\n",
       "      <td>2016-12-05 00:00:00</td>\n",
       "      <td>2018-05-28 00:00:00</td>\n",
       "    </tr>\n",
       "    <tr>\n",
       "      <th>4</th>\n",
       "      <td>9.0</td>\n",
       "      <td>2016-07-18 00:00:00</td>\n",
       "      <td>2018-05-28 00:00:00</td>\n",
       "    </tr>\n",
       "    <tr>\n",
       "      <th>...</th>\n",
       "      <td>...</td>\n",
       "      <td>...</td>\n",
       "      <td>...</td>\n",
       "    </tr>\n",
       "    <tr>\n",
       "      <th>534</th>\n",
       "      <td>991.0</td>\n",
       "      <td>2016-10-24 00:00:00</td>\n",
       "      <td>2016-10-24 00:00:00</td>\n",
       "    </tr>\n",
       "    <tr>\n",
       "      <th>535</th>\n",
       "      <td>992.0</td>\n",
       "      <td>2015-02-09 00:00:00</td>\n",
       "      <td>2015-07-06 00:00:00</td>\n",
       "    </tr>\n",
       "    <tr>\n",
       "      <th>536</th>\n",
       "      <td>993.0</td>\n",
       "      <td>2017-09-11 00:00:00</td>\n",
       "      <td>2018-05-28 00:00:00</td>\n",
       "    </tr>\n",
       "    <tr>\n",
       "      <th>537</th>\n",
       "      <td>995.0</td>\n",
       "      <td>2016-09-05 00:00:00</td>\n",
       "      <td>2018-05-28 00:00:00</td>\n",
       "    </tr>\n",
       "    <tr>\n",
       "      <th>538</th>\n",
       "      <td>998.0</td>\n",
       "      <td>2017-12-04 00:00:00</td>\n",
       "      <td>2018-05-28 00:00:00</td>\n",
       "    </tr>\n",
       "  </tbody>\n",
       "</table>\n",
       "<p>539 rows × 3 columns</p>\n",
       "</div>"
      ],
      "text/plain": [
       "      user                  min                  max\n",
       "0      1.0  2015-06-29 00:00:00  2018-05-28 00:00:00\n",
       "1      3.0  2018-03-05 00:00:00  2018-04-23 00:00:00\n",
       "2      5.0  2017-06-05 00:00:00  2018-05-28 00:00:00\n",
       "3      6.0  2016-12-05 00:00:00  2018-05-28 00:00:00\n",
       "4      9.0  2016-07-18 00:00:00  2018-05-28 00:00:00\n",
       "..     ...                  ...                  ...\n",
       "534  991.0  2016-10-24 00:00:00  2016-10-24 00:00:00\n",
       "535  992.0  2015-02-09 00:00:00  2015-07-06 00:00:00\n",
       "536  993.0  2017-09-11 00:00:00  2018-05-28 00:00:00\n",
       "537  995.0  2016-09-05 00:00:00  2018-05-28 00:00:00\n",
       "538  998.0  2017-12-04 00:00:00  2018-05-28 00:00:00\n",
       "\n",
       "[539 rows x 3 columns]"
      ]
     },
     "execution_count": 59,
     "metadata": {},
     "output_type": "execute_result"
    }
   ],
   "source": [
    "# page 32\n",
    "cutoff_dates = Emails.groupby('user').week.agg(['min', 'max']).reset_index()\n",
    "cutoff_dates = cutoff_dates.reset_index(drop=True) #old index -> user as index is gone\n",
    "cutoff_dates"
   ]
  },
  {
   "cell_type": "code",
   "execution_count": 60,
   "id": "1fe4d5c2",
   "metadata": {},
   "outputs": [],
   "source": [
    "import warnings\n",
    "warnings.filterwarnings('ignore')\n",
    "\n",
    "# for each rows in the df above, we itterate \n",
    "for _, row in cutoff_dates.iterrows():\n",
    "  user        = row['user']\n",
    "  start_date  = row['min']\n",
    "  end_date    = row['max']\n",
    "  all_email.drop(all_email[all_email.user == user][all_email.week < start_date].index, inplace=True)\n",
    "  all_email.drop(all_email[all_email.user == user][all_email.week > end_date].index, inplace=True)"
   ]
  },
  {
   "cell_type": "code",
   "execution_count": 21,
   "id": "bb7382bb",
   "metadata": {
    "scrolled": true
   },
   "outputs": [
    {
     "data": {
      "text/plain": [
       "(52, 3)"
      ]
     },
     "execution_count": 21,
     "metadata": {},
     "output_type": "execute_result"
    }
   ],
   "source": [
    "all_email[all_email.user == 5].shape"
   ]
  },
  {
   "cell_type": "code",
   "execution_count": 62,
   "id": "905f82bb",
   "metadata": {},
   "outputs": [
    {
     "data": {
      "text/html": [
       "<div>\n",
       "<style scoped>\n",
       "    .dataframe tbody tr th:only-of-type {\n",
       "        vertical-align: middle;\n",
       "    }\n",
       "\n",
       "    .dataframe tbody tr th {\n",
       "        vertical-align: top;\n",
       "    }\n",
       "\n",
       "    .dataframe thead th {\n",
       "        text-align: right;\n",
       "    }\n",
       "</style>\n",
       "<table border=\"1\" class=\"dataframe\">\n",
       "  <thead>\n",
       "    <tr style=\"text-align: right;\">\n",
       "      <th></th>\n",
       "      <th>amount</th>\n",
       "      <th>timestamp</th>\n",
       "      <th>user</th>\n",
       "    </tr>\n",
       "  </thead>\n",
       "  <tbody>\n",
       "    <tr>\n",
       "      <th>0</th>\n",
       "      <td>25.0</td>\n",
       "      <td>2017-11-12 11:13:44</td>\n",
       "      <td>0.0</td>\n",
       "    </tr>\n",
       "    <tr>\n",
       "      <th>1</th>\n",
       "      <td>50.0</td>\n",
       "      <td>2015-08-25 19:01:45</td>\n",
       "      <td>0.0</td>\n",
       "    </tr>\n",
       "    <tr>\n",
       "      <th>2</th>\n",
       "      <td>25.0</td>\n",
       "      <td>2015-03-26 12:03:47</td>\n",
       "      <td>0.0</td>\n",
       "    </tr>\n",
       "    <tr>\n",
       "      <th>3</th>\n",
       "      <td>50.0</td>\n",
       "      <td>2016-07-06 12:24:55</td>\n",
       "      <td>0.0</td>\n",
       "    </tr>\n",
       "    <tr>\n",
       "      <th>4</th>\n",
       "      <td>50.0</td>\n",
       "      <td>2016-05-11 18:13:04</td>\n",
       "      <td>1.0</td>\n",
       "    </tr>\n",
       "  </tbody>\n",
       "</table>\n",
       "</div>"
      ],
      "text/plain": [
       "   amount            timestamp  user\n",
       "0    25.0  2017-11-12 11:13:44   0.0\n",
       "1    50.0  2015-08-25 19:01:45   0.0\n",
       "2    25.0  2015-03-26 12:03:47   0.0\n",
       "3    50.0  2016-07-06 12:24:55   0.0\n",
       "4    50.0  2016-05-11 18:13:04   1.0"
      ]
     },
     "execution_count": 62,
     "metadata": {},
     "output_type": "execute_result"
    }
   ],
   "source": [
    "# TIme a memeber donated to your organization\n",
    "Donations = pd.read_csv(\"donations.csv\")\n",
    "Donations.head()"
   ]
  },
  {
   "cell_type": "code",
   "execution_count": 63,
   "id": "95ae60ea",
   "metadata": {},
   "outputs": [],
   "source": [
    "# Relating email data to donations data\n",
    "# We want to downsample the donation data (turn it into weekly time series)\n",
    "# Interested in the total weekly donation for each user\n",
    "\n",
    "# converting string timestamp to proper timestamped data calss\n",
    "Donations.timestamp = pd.to_datetime(Donations.timestamp)\n",
    "Donations.set_index('timestamp', inplace=True) #setting timestamp as the index\n",
    "agg_don = Donations.groupby('user').apply(lambda df: df.amount.resample(\"W-MON\").sum().dropna())\n",
    "# apply(lamda df: df.amount.action verbs applies the action verbs equally to all entries in df)\n",
    "# for each user, sum donations by week, drop weeks without donation, \n",
    "# \"W-MON\" is to resample with anchored week-week achored to Monday- to match the same weekly dates "
   ]
  },
  {
   "cell_type": "code",
   "execution_count": 64,
   "id": "fd4ec852",
   "metadata": {},
   "outputs": [
    {
     "data": {
      "text/plain": [
       "user   timestamp \n",
       "0.0    2015-03-30      25.0\n",
       "       2015-04-06       0.0\n",
       "       2015-04-13       0.0\n",
       "       2015-04-20       0.0\n",
       "       2015-04-27       0.0\n",
       "                      ...  \n",
       "995.0  2017-09-11       0.0\n",
       "       2017-09-18       0.0\n",
       "       2017-09-25       0.0\n",
       "       2017-10-02    1000.0\n",
       "998.0  2018-01-08      50.0\n",
       "Name: amount, Length: 32352, dtype: float64"
      ]
     },
     "execution_count": 64,
     "metadata": {},
     "output_type": "execute_result"
    }
   ],
   "source": [
    "agg_don"
   ]
  },
  {
   "cell_type": "code",
   "execution_count": 65,
   "id": "8dbe3ecd",
   "metadata": {},
   "outputs": [],
   "source": [
    "merged_df = pd.DataFrame() # Create a dataframe\n",
    "\n",
    "for user, user_email in all_email.groupby('user'): #inner join\n",
    "  user_donations = agg_don[agg_don.index.get_level_values('user') == user] \n",
    "  #\n",
    "\n",
    "  user_donations = user_donations.droplevel(0) #drop weeks without donation\n",
    "  # user_donations.set_index('timestamp', inplace = True)  \n",
    "  \n",
    "  user_email = all_email[all_email.user == user]\n",
    "  user_email.sort_values('week', inplace=True)\n",
    "  user_email.set_index('week', inplace=True)\n",
    "\n",
    "  df = pd.merge(user_email, user_donations, how='left', left_index=True, right_index=True)\n",
    "  df.fillna(0)\n",
    "\n",
    "  merged_df = merged_df.append(df.reset_index()[['user', 'week', 'emailsOpened', 'amount']])"
   ]
  },
  {
   "cell_type": "code",
   "execution_count": 66,
   "id": "92aaeb0b",
   "metadata": {},
   "outputs": [
    {
     "data": {
      "text/html": [
       "<div>\n",
       "<style scoped>\n",
       "    .dataframe tbody tr th:only-of-type {\n",
       "        vertical-align: middle;\n",
       "    }\n",
       "\n",
       "    .dataframe tbody tr th {\n",
       "        vertical-align: top;\n",
       "    }\n",
       "\n",
       "    .dataframe thead th {\n",
       "        text-align: right;\n",
       "    }\n",
       "</style>\n",
       "<table border=\"1\" class=\"dataframe\">\n",
       "  <thead>\n",
       "    <tr style=\"text-align: right;\">\n",
       "      <th></th>\n",
       "      <th>user</th>\n",
       "      <th>week</th>\n",
       "      <th>emailsOpened</th>\n",
       "      <th>amount</th>\n",
       "    </tr>\n",
       "  </thead>\n",
       "  <tbody>\n",
       "    <tr>\n",
       "      <th>0</th>\n",
       "      <td>1.0</td>\n",
       "      <td>2015-06-29 00:00:00</td>\n",
       "      <td>3.0</td>\n",
       "      <td>NaN</td>\n",
       "    </tr>\n",
       "    <tr>\n",
       "      <th>1</th>\n",
       "      <td>1.0</td>\n",
       "      <td>2015-07-06 00:00:00</td>\n",
       "      <td>0.0</td>\n",
       "      <td>NaN</td>\n",
       "    </tr>\n",
       "    <tr>\n",
       "      <th>2</th>\n",
       "      <td>1.0</td>\n",
       "      <td>2015-07-13 00:00:00</td>\n",
       "      <td>2.0</td>\n",
       "      <td>NaN</td>\n",
       "    </tr>\n",
       "    <tr>\n",
       "      <th>3</th>\n",
       "      <td>1.0</td>\n",
       "      <td>2015-07-20 00:00:00</td>\n",
       "      <td>2.0</td>\n",
       "      <td>NaN</td>\n",
       "    </tr>\n",
       "    <tr>\n",
       "      <th>4</th>\n",
       "      <td>1.0</td>\n",
       "      <td>2015-07-27 00:00:00</td>\n",
       "      <td>3.0</td>\n",
       "      <td>NaN</td>\n",
       "    </tr>\n",
       "  </tbody>\n",
       "</table>\n",
       "</div>"
      ],
      "text/plain": [
       "   user                 week  emailsOpened  amount\n",
       "0   1.0  2015-06-29 00:00:00           3.0     NaN\n",
       "1   1.0  2015-07-06 00:00:00           0.0     NaN\n",
       "2   1.0  2015-07-13 00:00:00           2.0     NaN\n",
       "3   1.0  2015-07-20 00:00:00           2.0     NaN\n",
       "4   1.0  2015-07-27 00:00:00           3.0     NaN"
      ]
     },
     "execution_count": 66,
     "metadata": {},
     "output_type": "execute_result"
    }
   ],
   "source": [
    "merged_df.head()"
   ]
  },
  {
   "cell_type": "code",
   "execution_count": 67,
   "id": "8231d9ab",
   "metadata": {},
   "outputs": [
    {
     "data": {
      "text/html": [
       "<div>\n",
       "<style scoped>\n",
       "    .dataframe tbody tr th:only-of-type {\n",
       "        vertical-align: middle;\n",
       "    }\n",
       "\n",
       "    .dataframe tbody tr th {\n",
       "        vertical-align: top;\n",
       "    }\n",
       "\n",
       "    .dataframe thead th {\n",
       "        text-align: right;\n",
       "    }\n",
       "</style>\n",
       "<table border=\"1\" class=\"dataframe\">\n",
       "  <thead>\n",
       "    <tr style=\"text-align: right;\">\n",
       "      <th></th>\n",
       "      <th>user</th>\n",
       "      <th>week</th>\n",
       "      <th>emailsOpened</th>\n",
       "      <th>amount</th>\n",
       "      <th>target</th>\n",
       "    </tr>\n",
       "  </thead>\n",
       "  <tbody>\n",
       "    <tr>\n",
       "      <th>0</th>\n",
       "      <td>998.0</td>\n",
       "      <td>2017-12-04 00:00:00</td>\n",
       "      <td>1.0</td>\n",
       "      <td>0.0</td>\n",
       "      <td>0.0</td>\n",
       "    </tr>\n",
       "    <tr>\n",
       "      <th>1</th>\n",
       "      <td>998.0</td>\n",
       "      <td>2017-12-11 00:00:00</td>\n",
       "      <td>3.0</td>\n",
       "      <td>0.0</td>\n",
       "      <td>0.0</td>\n",
       "    </tr>\n",
       "    <tr>\n",
       "      <th>2</th>\n",
       "      <td>998.0</td>\n",
       "      <td>2017-12-18 00:00:00</td>\n",
       "      <td>3.0</td>\n",
       "      <td>0.0</td>\n",
       "      <td>0.0</td>\n",
       "    </tr>\n",
       "    <tr>\n",
       "      <th>3</th>\n",
       "      <td>998.0</td>\n",
       "      <td>2017-12-25 00:00:00</td>\n",
       "      <td>0.0</td>\n",
       "      <td>0.0</td>\n",
       "      <td>0.0</td>\n",
       "    </tr>\n",
       "    <tr>\n",
       "      <th>4</th>\n",
       "      <td>998.0</td>\n",
       "      <td>2018-01-01 00:00:00</td>\n",
       "      <td>3.0</td>\n",
       "      <td>0.0</td>\n",
       "      <td>0.0</td>\n",
       "    </tr>\n",
       "    <tr>\n",
       "      <th>5</th>\n",
       "      <td>998.0</td>\n",
       "      <td>2018-01-08 00:00:00</td>\n",
       "      <td>3.0</td>\n",
       "      <td>0.0</td>\n",
       "      <td>0.0</td>\n",
       "    </tr>\n",
       "    <tr>\n",
       "      <th>6</th>\n",
       "      <td>998.0</td>\n",
       "      <td>2018-01-15 00:00:00</td>\n",
       "      <td>2.0</td>\n",
       "      <td>0.0</td>\n",
       "      <td>0.0</td>\n",
       "    </tr>\n",
       "  </tbody>\n",
       "</table>\n",
       "</div>"
      ],
      "text/plain": [
       "    user                 week  emailsOpened  amount  target\n",
       "0  998.0  2017-12-04 00:00:00           1.0     0.0     0.0\n",
       "1  998.0  2017-12-11 00:00:00           3.0     0.0     0.0\n",
       "2  998.0  2017-12-18 00:00:00           3.0     0.0     0.0\n",
       "3  998.0  2017-12-25 00:00:00           0.0     0.0     0.0\n",
       "4  998.0  2018-01-01 00:00:00           3.0     0.0     0.0\n",
       "5  998.0  2018-01-08 00:00:00           3.0     0.0     0.0\n",
       "6  998.0  2018-01-15 00:00:00           2.0     0.0     0.0"
      ]
     },
     "execution_count": 67,
     "metadata": {},
     "output_type": "execute_result"
    }
   ],
   "source": [
    "df = merged_df[merged_df.user == 998]\n",
    "df['target'] = df.amount.shift(1)\n",
    "df = df.fillna(0)\n",
    "df.head(7)"
   ]
  },
  {
   "cell_type": "code",
   "execution_count": null,
   "id": "6947c789",
   "metadata": {},
   "outputs": [],
   "source": []
  }
 ],
 "metadata": {
  "kernelspec": {
   "display_name": "Python 3",
   "language": "python",
   "name": "python3"
  },
  "language_info": {
   "codemirror_mode": {
    "name": "ipython",
    "version": 3
   },
   "file_extension": ".py",
   "mimetype": "text/x-python",
   "name": "python",
   "nbconvert_exporter": "python",
   "pygments_lexer": "ipython3",
   "version": "3.8.8"
  }
 },
 "nbformat": 4,
 "nbformat_minor": 5
}
