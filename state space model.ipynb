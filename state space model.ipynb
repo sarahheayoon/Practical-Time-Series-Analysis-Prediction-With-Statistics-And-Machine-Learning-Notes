{
 "cells": [
  {
   "cell_type": "code",
   "execution_count": null,
   "metadata": {},
   "outputs": [],
   "source": [
    "import matplotlib\n",
    "matplotlib.rcParams['figure.figsize'] = [8, 3]\n",
    "import matplotlib.pyplot as plt\n",
    "\n",
    "import pandas as pd\n",
    "import numpy as np\n",
    "import statsmodels.api as sm\n",
    "import statsmodels\n",
    "\n",
    "import scipy\n",
    "from scipy.stats import pearsonr\n",
    "\n",
    "from pandas.plotting import register_matplotlib_converters\n",
    "register_matplotlib_converters()"
   ]
  },
  {
   "cell_type": "markdown",
   "metadata": {},
   "source": [
    "### Part 1: Exploratory Analysis \n",
    "Questions\n",
    "1. What is wrong with the data and plot above? How can we fix this?\n",
    "2. How can we make the index more time aware?\n",
    "3. How strongly do these measurements correlate contemporaneously? What about with a time lag?\n",
    "4. consider adding a seasonal term for 12 periods for the model fit above. Does this improve the fit of the model?"
   ]
  },
  {
   "cell_type": "code",
   "execution_count": null,
   "metadata": {},
   "outputs": [],
   "source": [
    "# Question 1\n",
    "df = pd.read_csv(\"global_annual_temps.csv\")\n",
    "df.head()\n",
    "df.Mean[:100].plot()"
   ]
  },
  {
   "cell_type": "code",
   "execution_count": null,
   "metadata": {},
   "outputs": [],
   "source": [
    "# Question 2\n",
    "df.index = pd.to_datetime(df.index)\n",
    "type(df.index)"
   ]
  },
  {
   "cell_type": "code",
   "execution_count": null,
   "metadata": {},
   "outputs": [],
   "source": [
    "# Question 3\n",
    "plt.scatter(df['1880':'1900'][['GCAG']], df['1880':'1900'][['GISTEMP']])\n",
    "plt.scatter(df['1880':'1899'][['GCAG']], df['1881':'1900'][['GISTEMP']])\n",
    "df['1880':'1899'][['GCAG']].head()\n",
    "df['1881':'1900'][['GISTEMP']].head()\n",
    "\n",
    "min(df.index)\n",
    "max(df.index)"
   ]
  },
  {
   "cell_type": "markdown",
   "metadata": {},
   "source": [
    "### Part 2: Modeling"
   ]
  },
  {
   "cell_type": "code",
   "execution_count": null,
   "metadata": {},
   "outputs": [],
   "source": [
    "train = df['1960':]\n",
    "# smooth trend model without seasonal or cyclical components\n",
    "model = {\n",
    "    'level': 'smooth trend', 'cycle': False, 'seasonal': None, \n",
    "}\n",
    "\n",
    "# taking from statsmodel api: UnobservedComponents\n",
    "gcag_mod = sm.tsa.UnobservedComponents(train['GCAG'], **model)\n",
    "gcag_res = gcag_mod.fit()"
   ]
  },
  {
   "cell_type": "code",
   "execution_count": null,
   "metadata": {},
   "outputs": [],
   "source": [
    "# plotting\n",
    "fig = gcag_res.plot_components(legend_loc='lower right', figsize=(15, 9));\n",
    "\n",
    "# Perform rolling prediction and multistep forecast\n",
    "num_steps = 20\n",
    "predict_res = gcag_res.get_prediction(dynamic=train['GCAG'].shape[0] - num_steps)\n",
    "\n",
    "predict = predict_res.predicted_mean\n",
    "ci = predict_res.conf_int()"
   ]
  },
  {
   "cell_type": "code",
   "execution_count": null,
   "metadata": {},
   "outputs": [],
   "source": [
    "plt.plot(predict)\n",
    "plt.scatter(train['GCAG'], predict)"
   ]
  },
  {
   "cell_type": "code",
   "execution_count": null,
   "metadata": {},
   "outputs": [],
   "source": [
    "fig, ax = plt.subplots()\n",
    "# Plot the results\n",
    "ax.plot(train['GCAG'], 'k.', label='Observations');\n",
    "ax.plot(train.index[:-num_steps], predict[:-num_steps], label='One-step-ahead Prediction');\n",
    "\n",
    "ax.plot(train.index[-num_steps:], predict[-num_steps:], 'r', label='Multistep Prediction');\n",
    "ax.plot(train.index[-num_steps:], ci.iloc[-num_steps:], 'k--');"
   ]
  },
  {
   "cell_type": "code",
   "execution_count": null,
   "metadata": {},
   "outputs": [],
   "source": [
    "# Question 4 **** \n",
    "seasonal_model = {\n",
    "    'level': 'local linear trend',\n",
    "    'seasonal': 12\n",
    "}\n",
    "mod = sm.tsa.UnobservedComponents(train['GCAG'], **seasonal_model)\n",
    "res = mod.fit(method='powell', disp=False)"
   ]
  },
  {
   "cell_type": "code",
   "execution_count": null,
   "metadata": {},
   "outputs": [],
   "source": [
    "fig = res.plot_components(legend_loc='lower right', figsize=(15, 9));"
   ]
  },
  {
   "cell_type": "code",
   "execution_count": null,
   "metadata": {},
   "outputs": [],
   "source": [
    "# Comparing the two models:\n",
    "np.mean(np.abs(gcag_res.predict() - train['GCAG']))"
   ]
  },
  {
   "cell_type": "code",
   "execution_count": null,
   "metadata": {},
   "outputs": [],
   "source": [
    "np.mean(np.abs(res.predict() - train['GCAG']))"
   ]
  }
 ],
 "metadata": {
  "kernelspec": {
   "display_name": "Python 3.8.8 ('base')",
   "language": "python",
   "name": "python3"
  },
  "language_info": {
   "name": "python",
   "version": "3.8.8"
  },
  "orig_nbformat": 4,
  "vscode": {
   "interpreter": {
    "hash": "40d3a090f54c6569ab1632332b64b2c03c39dcf918b08424e98f38b5ae0af88f"
   }
  }
 },
 "nbformat": 4,
 "nbformat_minor": 2
}
