{
 "cells": [
  {
   "cell_type": "code",
   "execution_count": 1,
   "id": "e4caf8c1",
   "metadata": {},
   "outputs": [],
   "source": [
    "import numpy as np\n",
    "import pandas as pd"
   ]
  },
  {
   "cell_type": "code",
   "execution_count": 2,
   "id": "fb31b77c",
   "metadata": {},
   "outputs": [],
   "source": [
    "## member status\n",
    "years = ['2014', '2015', '2016', '2017', '2018'] \n",
    "memberStatus = ['bronze', 'silver', 'gold', 'inactive']\n",
    "\n",
    "## manipualte parameter p in np.random.choice to adjust probability\n",
    "memberYears = np.random.choice(years, 1000,\n",
    "              p = [0.1, 0.1, 0.15, 0.30, 0.35])\n",
    "memberStats = np.random.choice(memberStatus, 1000, \n",
    "              p = [0.5, 0.3, 0.1, 0.1])\n",
    "yearJoined = pd.DataFrame({'yearJoined': memberYears, \n",
    "                           'memberStats': memberStats}) "
   ]
  },
  {
   "cell_type": "code",
   "execution_count": 3,
   "id": "767ef684",
   "metadata": {},
   "outputs": [
    {
     "data": {
      "text/html": [
       "<div>\n",
       "<style scoped>\n",
       "    .dataframe tbody tr th:only-of-type {\n",
       "        vertical-align: middle;\n",
       "    }\n",
       "\n",
       "    .dataframe tbody tr th {\n",
       "        vertical-align: top;\n",
       "    }\n",
       "\n",
       "    .dataframe thead th {\n",
       "        text-align: right;\n",
       "    }\n",
       "</style>\n",
       "<table border=\"1\" class=\"dataframe\">\n",
       "  <thead>\n",
       "    <tr style=\"text-align: right;\">\n",
       "      <th></th>\n",
       "      <th>yearJoined</th>\n",
       "      <th>memberStats</th>\n",
       "    </tr>\n",
       "  </thead>\n",
       "  <tbody>\n",
       "    <tr>\n",
       "      <th>0</th>\n",
       "      <td>2014</td>\n",
       "      <td>bronze</td>\n",
       "    </tr>\n",
       "    <tr>\n",
       "      <th>1</th>\n",
       "      <td>2018</td>\n",
       "      <td>bronze</td>\n",
       "    </tr>\n",
       "    <tr>\n",
       "      <th>2</th>\n",
       "      <td>2018</td>\n",
       "      <td>silver</td>\n",
       "    </tr>\n",
       "    <tr>\n",
       "      <th>3</th>\n",
       "      <td>2017</td>\n",
       "      <td>gold</td>\n",
       "    </tr>\n",
       "    <tr>\n",
       "      <th>4</th>\n",
       "      <td>2018</td>\n",
       "      <td>gold</td>\n",
       "    </tr>\n",
       "    <tr>\n",
       "      <th>...</th>\n",
       "      <td>...</td>\n",
       "      <td>...</td>\n",
       "    </tr>\n",
       "    <tr>\n",
       "      <th>995</th>\n",
       "      <td>2014</td>\n",
       "      <td>silver</td>\n",
       "    </tr>\n",
       "    <tr>\n",
       "      <th>996</th>\n",
       "      <td>2016</td>\n",
       "      <td>bronze</td>\n",
       "    </tr>\n",
       "    <tr>\n",
       "      <th>997</th>\n",
       "      <td>2017</td>\n",
       "      <td>inactive</td>\n",
       "    </tr>\n",
       "    <tr>\n",
       "      <th>998</th>\n",
       "      <td>2017</td>\n",
       "      <td>bronze</td>\n",
       "    </tr>\n",
       "    <tr>\n",
       "      <th>999</th>\n",
       "      <td>2016</td>\n",
       "      <td>bronze</td>\n",
       "    </tr>\n",
       "  </tbody>\n",
       "</table>\n",
       "<p>1000 rows × 2 columns</p>\n",
       "</div>"
      ],
      "text/plain": [
       "    yearJoined memberStats\n",
       "0         2014      bronze\n",
       "1         2018      bronze\n",
       "2         2018      silver\n",
       "3         2017        gold\n",
       "4         2018        gold\n",
       "..         ...         ...\n",
       "995       2014      silver\n",
       "996       2016      bronze\n",
       "997       2017    inactive\n",
       "998       2017      bronze\n",
       "999       2016      bronze\n",
       "\n",
       "[1000 rows x 2 columns]"
      ]
     },
     "execution_count": 3,
     "metadata": {},
     "output_type": "execute_result"
    }
   ],
   "source": [
    "yearJoined"
   ]
  },
  {
   "cell_type": "code",
   "execution_count": 4,
   "id": "41a04bca",
   "metadata": {},
   "outputs": [],
   "source": [
    "NUM_EMAILS_SENT_WEEKLY = 3\n",
    "\n",
    "## Defining functions\n",
    "def never_opens(period_rng): \n",
    "  return []\n",
    "\n",
    "def constant_open_rate(period_rng): \n",
    "  n, p = NUM_EMAILS_SENT_WEEKLY, np.random.uniform(0, 1) \n",
    "  num_opened = np.random.binomial(n, p, len(period_rng)) \n",
    "  return num_opened\n",
    "\n",
    "def increasing_open_rate(period_rng): \n",
    "  return open_rate_with_factor_change(period_rng,\t\t\t\t\n",
    "                                      np.random.uniform(1.01, \n",
    "                                      1.30))\n",
    "\n",
    "def decreasing_open_rate(period_rng): \n",
    "  return open_rate_with_factor_change(period_rng,\n",
    "                                      np.random.uniform(0.5, \n",
    "                                      0.99))\n",
    "\n",
    "def open_rate_with_factor_change(period_rng, fac): \n",
    "    if len(period_rng) < 1 :\n",
    "       return []\n",
    "    times = np.random.randint(0, len(period_rng),\n",
    "                               int(0.1 * len(period_rng))) \n",
    "    num_opened = np.zeros(len(period_rng))\n",
    "    for prd in range(0, len(period_rng), 2): \n",
    "        try:\n",
    "            n, p = NUM_EMAILS_SENT_WEEKLY, np.random.uniform(0, \n",
    "                                                             1)\n",
    "            num_opened[prd:(prd + 2)] = np.random.binomial(n, p, \n",
    "                                                           2)\n",
    "            p = max(min(1, p * fac), 0)\n",
    "        except:\t\n",
    "            num_opened[prd] = np.random.binomial(n, p, 1)\n",
    "    for t in range(len(times)):\n",
    "        num_opened[times[t]] = 0\n",
    "    return num_opened \t"
   ]
  },
  {
   "cell_type": "code",
   "execution_count": 5,
   "id": "411886ea",
   "metadata": {},
   "outputs": [],
   "source": [
    "def produce_donations(period_rng, member_behavior, num_emails, \n",
    "                      use_id, member_join_year):\n",
    "    donation_amounts = np.array([0, 25, 50, 75, 100, 250, 500, \n",
    "                                 1000, 1500, 2000])\n",
    "    member_has = np.random.choice(donation_amounts)\n",
    "    email_fraction = num_emails / (NUM_EMAILS_SENT_WEEKLY * len(period_rng)) \n",
    "    member_gives = member_has * email_fraction\n",
    "    member_gives_idx = np.where(member_gives >= donation_amounts)[0][-1]\n",
    "    member_gives_idx = max(min(member_gives_idx,\n",
    "                               len(donation_amounts) - 2),\n",
    "                           1)\n",
    "    num_times_gave = np.random.poisson(2) * (2018 - member_join_year)\n",
    "    times = np.random.randint(0, len(period_rng), num_times_gave)\n",
    "    dons = pd.DataFrame({'member'   : [],\n",
    "                         'amount'   : [],\n",
    "                         'timestamp': []})\n",
    "\n",
    "    for n in range(num_times_gave):\n",
    "        donation = donation_amounts[member_gives_idx + np.random.binomial(1, .3)]\n",
    "        ts = str(period_rng[times[n]].start_time + random_weekly_time_delta())\n",
    "        dons = dons.append(pd.DataFrame(\n",
    "                  {'member' :[use_id],\n",
    "                   'amount' :[donation],\n",
    "                   'timestamp': [ts]}))\n",
    "\n",
    "        if dons.shape[0] > 0:\n",
    "            dons = dons[dons.amount != 0]\n",
    "            ## we don't report zero donation events as this would not\n",
    "            ## be recorded in a real world database \n",
    "    \n",
    "            return dons"
   ]
  },
  {
   "cell_type": "code",
   "execution_count": 6,
   "id": "bd324d27",
   "metadata": {},
   "outputs": [],
   "source": [
    "def random_weekly_time_delta():\n",
    "    days_of_week = [d for d in range(7)]\n",
    "    hours_of_day = [h for h in range(11, 23)] \n",
    "    minute_of_hour = [m for m in range(60)] \n",
    "    second_of_minute = [s for s in range(60)]\n",
    "    return pd.Timedelta(str(np.random.choice(days_of_week)) + \" days\" ) + pd.Timedelta(str(np.random.choice(hours_of_day)) + \" hours\" ) + pd.Timedelta(str(np.random.choice(minute_of_hour)) + \" minutes\") + pd.Timedelta(str(np.random.choice(second_of_minute)) + \" seconds\") "
   ]
  },
  {
   "cell_type": "code",
   "execution_count": 7,
   "id": "eaa09a34",
   "metadata": {},
   "outputs": [],
   "source": [
    "behaviors        = [never_opens, \n",
    "                    constant_open_rate, \n",
    "                    increasing_open_rate, \n",
    "                    decreasing_open_rate] \n",
    "member_behaviors = np.random.choice(behaviors, 1000,\n",
    "                                    [0.2, 0.5, 0.1, 0.2]) \n",
    "\n",
    "rng = pd.period_range('2015-02-14', '2018-06-01', freq = 'W')\n",
    "emails = pd.DataFrame({'member'      : [],\n",
    "                       'week'        : [],\n",
    "                       'emailsOpened': []})\t\n",
    "donations = pd.DataFrame({'member'   : [],\n",
    "                          'amount'   : [],\n",
    "                          'tunestamp': []})\t\n",
    "\n",
    "for idx in range(yearJoined.shape[0]):\n",
    "    ## randomly generate the date when a member would have joined\n",
    "    join_date = pd.Timestamp(yearJoined.iloc[idx].yearJoined) + pd.Timedelta(str(np.random.randint(0, 365)) + ' days')\n",
    "    join_date = min(join_date, pd.Timestamp('2018-06-01')).to_period(freq='W')\n",
    "\n",
    "    ## member should not have action timestamps before joining\n",
    "    member_rng = rng[rng > join_date] \n",
    "\n",
    "    if len(member_rng) < 1:\n",
    "        continue\n",
    "\n",
    "    info = member_behaviors[idx](member_rng) \n",
    "    if len(info) == len(member_rng):\n",
    "        emails = emails.append(pd.DataFrame(\n",
    "           {'member': [idx] * len(info),\n",
    "            'week': [str(r.start_time) for r in member_rng],\n",
    "            'emailsOpened': info})) \n",
    "        donations = donations.append(\n",
    "           produce_donations(member_rng, member_behaviors[idx], \n",
    "                                sum(info), idx, join_date.year)) "
   ]
  },
  {
   "cell_type": "code",
   "execution_count": 8,
   "id": "85d7d01b",
   "metadata": {},
   "outputs": [],
   "source": [
    "rng = pd.period_range('2015-02-14', '2018-06-01', freq = 'W')"
   ]
  },
  {
   "cell_type": "code",
   "execution_count": 9,
   "id": "d6175976",
   "metadata": {},
   "outputs": [
    {
     "data": {
      "text/plain": [
       "<AxesSubplot:xlabel='timestamp'>"
      ]
     },
     "execution_count": 9,
     "metadata": {},
     "output_type": "execute_result"
    },
    {
     "data": {
      "image/png": "[encoded data removed]",
      "text/plain": [
       "<Figure size 432x288 with 1 Axes>"
      ]
     },
     "metadata": {
      "needs_background": "light"
     },
     "output_type": "display_data"
    }
   ],
   "source": [
    "donations.set_index(pd.to_datetime(donations.timestamp), inplace = True) \n",
    "donations.sort_index(inplace = True)\n",
    "donations.groupby(pd.Grouper(freq='M')).amount.sum().plot() "
   ]
  },
  {
   "cell_type": "code",
   "execution_count": null,
   "id": "9df64753",
   "metadata": {},
   "outputs": [],
   "source": []
  }
 ],
 "metadata": {
  "kernelspec": {
   "display_name": "Python 3",
   "language": "python",
   "name": "python3"
  },
  "language_info": {
   "codemirror_mode": {
    "name": "ipython",
    "version": 3
   },
   "file_extension": ".py",
   "mimetype": "text/x-python",
   "name": "python",
   "nbconvert_exporter": "python",
   "pygments_lexer": "ipython3",
   "version": "3.8.8"
  }
 },
 "nbformat": 4,
 "nbformat_minor": 5
}
